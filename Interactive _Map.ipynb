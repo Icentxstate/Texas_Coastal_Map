{
 "cells": [
  {
   "cell_type": "code",
   "execution_count": 1,
   "metadata": {},
   "outputs": [
    {
     "name": "stdout",
     "output_type": "stream",
     "text": [
      "✅ نقشه با لوگو ذخیره شد در:\n",
      "C:\\Users\\qrb31\\Downloads\\New folder\\Texas_Coastal_Interactive_Map.html\n"
     ]
    },
    {
     "name": "stderr",
     "output_type": "stream",
     "text": [
      "C:\\Users\\qrb31\\AppData\\Local\\Temp\\ipykernel_12876\\2258300585.py:15: UserWarning: Geometry is in a geographic CRS. Results from 'centroid' are likely incorrect. Use 'GeoSeries.to_crs()' to re-project geometries to a projected CRS before this operation.\n",
      "\n",
      "  center = gdf.geometry.centroid.iloc[0]\n"
     ]
    }
   ],
   "source": [
    "import geopandas as gpd\n",
    "import folium\n",
    "import os\n",
    "from folium.plugins import FloatImage\n",
    "\n",
    "# مسیر فایل shapefile\n",
    "shapefile_path = r\"C:\\Users\\qrb31\\Downloads\\New folder\\CZB.shp\"\n",
    "gdf = gpd.read_file(shapefile_path).to_crs(epsg=4326)\n",
    "\n",
    "# مسیر خروجی\n",
    "output_dir = os.path.dirname(shapefile_path)\n",
    "output_file = os.path.join(output_dir, \"Texas_Coastal_Interactive_Map.html\")\n",
    "\n",
    "# مرکز نقشه\n",
    "center = gdf.geometry.centroid.iloc[0]\n",
    "m = folium.Map(location=[center.y, center.x], zoom_start=7, tiles=\"CartoDB positron\")\n",
    "\n",
    "# 🎨 Popup با استایل سایت‌پسند\n",
    "popup_html = \"\"\"\n",
    "<div style=\"font-family: 'Segoe UI', sans-serif; font-size: 14px; line-height: 1.6;\">\n",
    "  <h4 style=\"margin-bottom: 5px;\">Texas Coastal Hydrologic Monitoring Project</h4>\n",
    "  <p><strong style=\"color:#0b5394;\">Why this project?</strong><br>\n",
    "  Texas lacks long-term, consistent hydrologic data across its coast. This project addresses that gap through collaboration and innovation.</p>\n",
    "  <p><strong>Purpose:</strong> Develop a stakeholder-driven, long-term coastal hydrologic monitoring plan (LTCHMP).</p>\n",
    "  <p><strong>Goal:</strong> Create sustainable, data-informed tools for decision-making, planning, and resilience.</p>\n",
    "</div>\n",
    "\"\"\"\n",
    "\n",
    "# افزودن منطقه پروژه با Popup\n",
    "folium.GeoJson(\n",
    "    gdf,\n",
    "    style_function=lambda x: {\n",
    "        \"fillColor\": \"#0b5394\",\n",
    "        \"color\": \"#0b5394\",\n",
    "        \"weight\": 2,\n",
    "        \"fillOpacity\": 0.4,\n",
    "    },\n",
    "    popup=folium.Popup(popup_html, max_width=450)\n",
    ").add_to(m)\n",
    "\n",
    "# ✅ مسیر لوگو در کنار فایل HTML خروجی\n",
    "local_logo_path = \"meadows-vertical-txstate-blue-gold.png\"\n",
    "\n",
    "# لوگو باید در همان مسیر output_file باشد، پس بررسی و استفاده از مسیر نسبی مناسب:\n",
    "logo_full_path = os.path.join(output_dir, local_logo_path)\n",
    "if os.path.exists(logo_full_path):\n",
    "    FloatImage(local_logo_path, bottom=5, left=5).add_to(m)\n",
    "else:\n",
    "    print(\"⚠️ فایل لوگو یافت نشد در مسیر مورد انتظار:\", logo_full_path)\n",
    "\n",
    "# ذخیره نقشه\n",
    "m.save(output_file)\n",
    "print(\"✅ نقشه با لوگو ذخیره شد در:\")\n",
    "print(output_file)\n"
   ]
  }
 ],
 "metadata": {
  "kernelspec": {
   "display_name": "Python 3",
   "language": "python",
   "name": "python3"
  },
  "language_info": {
   "codemirror_mode": {
    "name": "ipython",
    "version": 3
   },
   "file_extension": ".py",
   "mimetype": "text/x-python",
   "name": "python",
   "nbconvert_exporter": "python",
   "pygments_lexer": "ipython3",
   "version": "3.11.9"
  }
 },
 "nbformat": 4,
 "nbformat_minor": 2
}
